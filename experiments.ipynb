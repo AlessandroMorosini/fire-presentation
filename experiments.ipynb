{
 "cells": [
  {
   "cell_type": "markdown",
   "id": "b35408f8-097c-4a35-a384-0285460c31f0",
   "metadata": {},
   "source": [
    "# Disclaimer:\n",
    "- This notebook is based on the paper \"FIRE: An Optimization Approach for Fast Interpretable Rule Extraction.\" by Liu and Mazumder\n",
    "- It uses the code provided at: https://raw.githubusercontent.com/brianliu12437/InterpretingBlackBoxTreeEnsembles/refs/heads/main/fire.py\n"
   ]
  },
  {
   "cell_type": "code",
   "execution_count": 1,
   "id": "476a2ef2-8186-4f21-b88c-6d89775b3ab9",
   "metadata": {
    "tags": []
   },
   "outputs": [
    {
     "name": "stdout",
     "output_type": "stream",
     "text": [
      "--2025-03-08 17:36:30--  https://raw.githubusercontent.com/brianliu12437/InterpretingBlackBoxTreeEnsembles/refs/heads/main/fire.py\n",
      "Resolving raw.githubusercontent.com (raw.githubusercontent.com)... 185.199.108.133, 185.199.110.133, 185.199.109.133, ...\n",
      "Connecting to raw.githubusercontent.com (raw.githubusercontent.com)|185.199.108.133|:443... connected.\n",
      "HTTP request sent, awaiting response... 200 OK\n",
      "Length: 3823 (3.7K) [text/plain]\n",
      "Saving to: ‘fire.py’\n",
      "\n",
      "fire.py             100%[===================>]   3.73K  --.-KB/s    in 0s      \n",
      "\n",
      "2025-03-08 17:36:30 (12.8 MB/s) - ‘fire.py’ saved [3823/3823]\n",
      "\n"
     ]
    }
   ],
   "source": [
    "!wget https://raw.githubusercontent.com/brianliu12437/InterpretingBlackBoxTreeEnsembles/refs/heads/main/fire.py -O fire.py"
   ]
  },
  {
   "cell_type": "code",
   "execution_count": 2,
   "id": "f7f22cea-fa25-4bc9-828e-e1df71581563",
   "metadata": {
    "tags": []
   },
   "outputs": [],
   "source": [
    "import pandas as pd\n",
    "import numpy as np\n",
    "import matplotlib.pyplot as plt\n",
    "from pathlib import Path\n",
    "from sklearn.tree import _tree\n",
    "import numpy as np\n",
    "\n",
    "from sklearn.model_selection import train_test_split\n",
    "from sklearn import preprocessing\n",
    "from sklearn.ensemble import RandomForestRegressor, RandomForestClassifier\n",
    "from sklearn.metrics import roc_auc_score, r2_score\n",
    "from sklearn.impute import SimpleImputer\n",
    "from sklearn.compose import ColumnTransformer\n",
    "from sklearn.pipeline import Pipeline\n",
    "from sklearn.preprocessing import StandardScaler, OneHotEncoder\n",
    "\n",
    "import fire  # Assuming you are using Fire for command-line interface"
   ]
  },
  {
   "cell_type": "code",
   "execution_count": 3,
   "id": "39073efb-8ad8-4805-9eb6-af4da94f748e",
   "metadata": {
    "tags": []
   },
   "outputs": [
    {
     "name": "stderr",
     "output_type": "stream",
     "text": [
      "/var/folders/jh/09tw104x1cz99r94b9s5m60c0000gn/T/ipykernel_11012/542582666.py:1: DtypeWarning: Columns (678,688,690,692) have mixed types. Specify dtype option on import or set low_memory=False.\n",
      "  df = pd.read_csv(Path().cwd() / \"GSEx.csv\", index_col=0)\n"
     ]
    }
   ],
   "source": [
    "df = pd.read_csv(Path().cwd() / \"GSEx.csv\", index_col=0)"
   ]
  },
  {
   "cell_type": "code",
   "execution_count": 4,
   "id": "63a95653-d5c0-4ef9-9dd9-8ef998c60ee5",
   "metadata": {
    "tags": []
   },
   "outputs": [],
   "source": [
    "# Drop problematic columns\n",
    "df = df.drop(columns=df.columns[[677, 687, 689, 691]], errors=\"ignore\")"
   ]
  },
  {
   "cell_type": "code",
   "execution_count": 5,
   "id": "fbf75bf1-cc7e-42ad-9549-8f4c72f305ed",
   "metadata": {
    "tags": []
   },
   "outputs": [
    {
     "name": "stdout",
     "output_type": "stream",
     "text": [
      "(1904, 688)\n"
     ]
    },
    {
     "data": {
      "text/html": [
       "<div>\n",
       "<style scoped>\n",
       "    .dataframe tbody tr th:only-of-type {\n",
       "        vertical-align: middle;\n",
       "    }\n",
       "\n",
       "    .dataframe tbody tr th {\n",
       "        vertical-align: top;\n",
       "    }\n",
       "\n",
       "    .dataframe thead th {\n",
       "        text-align: right;\n",
       "    }\n",
       "</style>\n",
       "<table border=\"1\" class=\"dataframe\">\n",
       "  <thead>\n",
       "    <tr style=\"text-align: right;\">\n",
       "      <th></th>\n",
       "      <th>age_at_diagnosis</th>\n",
       "      <th>type_of_breast_surgery</th>\n",
       "      <th>cancer_type</th>\n",
       "      <th>cancer_type_detailed</th>\n",
       "      <th>cellularity</th>\n",
       "      <th>chemotherapy</th>\n",
       "      <th>pam50_+_claudin-low_subtype</th>\n",
       "      <th>cohort</th>\n",
       "      <th>er_status_measured_by_ihc</th>\n",
       "      <th>er_status</th>\n",
       "      <th>...</th>\n",
       "      <th>nr2f1_mut</th>\n",
       "      <th>klrg1_mut</th>\n",
       "      <th>mbl2_mut</th>\n",
       "      <th>mtap_mut</th>\n",
       "      <th>ppp2cb_mut</th>\n",
       "      <th>smarcd1_mut</th>\n",
       "      <th>nras_mut</th>\n",
       "      <th>ndfip1_mut</th>\n",
       "      <th>prps2_mut</th>\n",
       "      <th>stmn2_mut</th>\n",
       "    </tr>\n",
       "    <tr>\n",
       "      <th>patient_id</th>\n",
       "      <th></th>\n",
       "      <th></th>\n",
       "      <th></th>\n",
       "      <th></th>\n",
       "      <th></th>\n",
       "      <th></th>\n",
       "      <th></th>\n",
       "      <th></th>\n",
       "      <th></th>\n",
       "      <th></th>\n",
       "      <th></th>\n",
       "      <th></th>\n",
       "      <th></th>\n",
       "      <th></th>\n",
       "      <th></th>\n",
       "      <th></th>\n",
       "      <th></th>\n",
       "      <th></th>\n",
       "      <th></th>\n",
       "      <th></th>\n",
       "      <th></th>\n",
       "    </tr>\n",
       "  </thead>\n",
       "  <tbody>\n",
       "    <tr>\n",
       "      <th>0</th>\n",
       "      <td>75.65</td>\n",
       "      <td>MASTECTOMY</td>\n",
       "      <td>Breast Cancer</td>\n",
       "      <td>Breast Invasive Ductal Carcinoma</td>\n",
       "      <td>NaN</td>\n",
       "      <td>0</td>\n",
       "      <td>claudin-low</td>\n",
       "      <td>1.0</td>\n",
       "      <td>Positve</td>\n",
       "      <td>Positive</td>\n",
       "      <td>...</td>\n",
       "      <td>0</td>\n",
       "      <td>0</td>\n",
       "      <td>0</td>\n",
       "      <td>0</td>\n",
       "      <td>0</td>\n",
       "      <td>0</td>\n",
       "      <td>0</td>\n",
       "      <td>0</td>\n",
       "      <td>0</td>\n",
       "      <td>0</td>\n",
       "    </tr>\n",
       "    <tr>\n",
       "      <th>2</th>\n",
       "      <td>43.19</td>\n",
       "      <td>BREAST CONSERVING</td>\n",
       "      <td>Breast Cancer</td>\n",
       "      <td>Breast Invasive Ductal Carcinoma</td>\n",
       "      <td>High</td>\n",
       "      <td>0</td>\n",
       "      <td>LumA</td>\n",
       "      <td>1.0</td>\n",
       "      <td>Positve</td>\n",
       "      <td>Positive</td>\n",
       "      <td>...</td>\n",
       "      <td>0</td>\n",
       "      <td>0</td>\n",
       "      <td>0</td>\n",
       "      <td>0</td>\n",
       "      <td>0</td>\n",
       "      <td>0</td>\n",
       "      <td>0</td>\n",
       "      <td>0</td>\n",
       "      <td>0</td>\n",
       "      <td>0</td>\n",
       "    </tr>\n",
       "    <tr>\n",
       "      <th>5</th>\n",
       "      <td>48.87</td>\n",
       "      <td>MASTECTOMY</td>\n",
       "      <td>Breast Cancer</td>\n",
       "      <td>Breast Invasive Ductal Carcinoma</td>\n",
       "      <td>High</td>\n",
       "      <td>1</td>\n",
       "      <td>LumB</td>\n",
       "      <td>1.0</td>\n",
       "      <td>Positve</td>\n",
       "      <td>Positive</td>\n",
       "      <td>...</td>\n",
       "      <td>0</td>\n",
       "      <td>0</td>\n",
       "      <td>0</td>\n",
       "      <td>0</td>\n",
       "      <td>0</td>\n",
       "      <td>0</td>\n",
       "      <td>0</td>\n",
       "      <td>0</td>\n",
       "      <td>0</td>\n",
       "      <td>0</td>\n",
       "    </tr>\n",
       "    <tr>\n",
       "      <th>6</th>\n",
       "      <td>47.68</td>\n",
       "      <td>MASTECTOMY</td>\n",
       "      <td>Breast Cancer</td>\n",
       "      <td>Breast Mixed Ductal and Lobular Carcinoma</td>\n",
       "      <td>Moderate</td>\n",
       "      <td>1</td>\n",
       "      <td>LumB</td>\n",
       "      <td>1.0</td>\n",
       "      <td>Positve</td>\n",
       "      <td>Positive</td>\n",
       "      <td>...</td>\n",
       "      <td>0</td>\n",
       "      <td>0</td>\n",
       "      <td>0</td>\n",
       "      <td>0</td>\n",
       "      <td>0</td>\n",
       "      <td>0</td>\n",
       "      <td>0</td>\n",
       "      <td>0</td>\n",
       "      <td>0</td>\n",
       "      <td>0</td>\n",
       "    </tr>\n",
       "    <tr>\n",
       "      <th>8</th>\n",
       "      <td>76.97</td>\n",
       "      <td>MASTECTOMY</td>\n",
       "      <td>Breast Cancer</td>\n",
       "      <td>Breast Mixed Ductal and Lobular Carcinoma</td>\n",
       "      <td>High</td>\n",
       "      <td>1</td>\n",
       "      <td>LumB</td>\n",
       "      <td>1.0</td>\n",
       "      <td>Positve</td>\n",
       "      <td>Positive</td>\n",
       "      <td>...</td>\n",
       "      <td>0</td>\n",
       "      <td>0</td>\n",
       "      <td>0</td>\n",
       "      <td>0</td>\n",
       "      <td>0</td>\n",
       "      <td>0</td>\n",
       "      <td>0</td>\n",
       "      <td>0</td>\n",
       "      <td>0</td>\n",
       "      <td>0</td>\n",
       "    </tr>\n",
       "  </tbody>\n",
       "</table>\n",
       "<p>5 rows × 688 columns</p>\n",
       "</div>"
      ],
      "text/plain": [
       "            age_at_diagnosis type_of_breast_surgery    cancer_type  \\\n",
       "patient_id                                                           \n",
       "0                      75.65             MASTECTOMY  Breast Cancer   \n",
       "2                      43.19      BREAST CONSERVING  Breast Cancer   \n",
       "5                      48.87             MASTECTOMY  Breast Cancer   \n",
       "6                      47.68             MASTECTOMY  Breast Cancer   \n",
       "8                      76.97             MASTECTOMY  Breast Cancer   \n",
       "\n",
       "                                 cancer_type_detailed cellularity  \\\n",
       "patient_id                                                          \n",
       "0                    Breast Invasive Ductal Carcinoma         NaN   \n",
       "2                    Breast Invasive Ductal Carcinoma        High   \n",
       "5                    Breast Invasive Ductal Carcinoma        High   \n",
       "6           Breast Mixed Ductal and Lobular Carcinoma    Moderate   \n",
       "8           Breast Mixed Ductal and Lobular Carcinoma        High   \n",
       "\n",
       "            chemotherapy pam50_+_claudin-low_subtype  cohort  \\\n",
       "patient_id                                                     \n",
       "0                      0                 claudin-low     1.0   \n",
       "2                      0                        LumA     1.0   \n",
       "5                      1                        LumB     1.0   \n",
       "6                      1                        LumB     1.0   \n",
       "8                      1                        LumB     1.0   \n",
       "\n",
       "           er_status_measured_by_ihc er_status  ...  nr2f1_mut klrg1_mut  \\\n",
       "patient_id                                      ...                        \n",
       "0                            Positve  Positive  ...          0         0   \n",
       "2                            Positve  Positive  ...          0         0   \n",
       "5                            Positve  Positive  ...          0         0   \n",
       "6                            Positve  Positive  ...          0         0   \n",
       "8                            Positve  Positive  ...          0         0   \n",
       "\n",
       "           mbl2_mut mtap_mut  ppp2cb_mut smarcd1_mut nras_mut ndfip1_mut  \\\n",
       "patient_id                                                                 \n",
       "0                 0        0           0           0        0          0   \n",
       "2                 0        0           0           0        0          0   \n",
       "5                 0        0           0           0        0          0   \n",
       "6                 0        0           0           0        0          0   \n",
       "8                 0        0           0           0        0          0   \n",
       "\n",
       "            prps2_mut  stmn2_mut  \n",
       "patient_id                        \n",
       "0                   0          0  \n",
       "2                   0          0  \n",
       "5                   0          0  \n",
       "6                   0          0  \n",
       "8                   0          0  \n",
       "\n",
       "[5 rows x 688 columns]"
      ]
     },
     "execution_count": 5,
     "metadata": {},
     "output_type": "execute_result"
    }
   ],
   "source": [
    "print(df.shape)\n",
    "df.head()"
   ]
  },
  {
   "cell_type": "code",
   "execution_count": 6,
   "id": "062ba3aa-d5f0-4559-a386-a0c19b29d138",
   "metadata": {
    "tags": []
   },
   "outputs": [],
   "source": [
    "y_column = [\"overall_survival_months\"]\n",
    "\n",
    "lookahead_bias_vars = [\n",
    "    \"overall_survival\",  # Binary survival outcome\n",
    "    \"death_from_cancer\",  # Directly indicates the outcome\n",
    "    \"nottingham_prognostic_index\",  # Prognostic score calculated post-diagnosis\n",
    "    \"lymph_nodes_examined_positive\",  # Determined post-surgery\n",
    "    \"tumor_stage\",  # Usually determined from pathology\n",
    "    \"integrative_cluster\"  # Likely derived from advanced analysis\n",
    "]\n",
    "\n",
    "to_drop = y_column + lookahead_bias_vars"
   ]
  },
  {
   "cell_type": "code",
   "execution_count": 7,
   "id": "cb0d2001-41b5-4c05-9c06-0f13386fef05",
   "metadata": {
    "tags": []
   },
   "outputs": [
    {
     "name": "stdout",
     "output_type": "stream",
     "text": [
      "Numeric columns: 497\n",
      "Categorical columns: 184\n"
     ]
    }
   ],
   "source": [
    "# First identify column types\n",
    "def identify_column_types(df):\n",
    "    numeric_cols = []\n",
    "    categorical_cols = []\n",
    "    \n",
    "    for col in df.columns:\n",
    "        # Check if column contains string values\n",
    "        if df[col].dtype == 'object' or pd.api.types.is_categorical_dtype(df[col]):\n",
    "            categorical_cols.append(col)\n",
    "        else:\n",
    "            numeric_cols.append(col)\n",
    "    \n",
    "    return numeric_cols, categorical_cols\n",
    "\n",
    "# Create the preprocessing pipeline\n",
    "def create_preprocessing_pipeline(numeric_cols, categorical_cols):\n",
    "    numeric_transformer = Pipeline(steps=[\n",
    "        ('imputer', SimpleImputer(strategy='mean')),\n",
    "        ('scaler', StandardScaler())\n",
    "    ])\n",
    "    \n",
    "    categorical_transformer = Pipeline(steps=[\n",
    "        ('imputer', SimpleImputer(strategy='most_frequent')),\n",
    "        ('onehot', OneHotEncoder(handle_unknown='ignore', sparse_output=False))\n",
    "    ])\n",
    "    \n",
    "    # Only include transformers for column types that exist\n",
    "    transformers = []\n",
    "    if numeric_cols:\n",
    "        transformers.append(('num', numeric_transformer, numeric_cols))\n",
    "    if categorical_cols:\n",
    "        transformers.append(('cat', categorical_transformer, categorical_cols))\n",
    "    \n",
    "    preprocessor = ColumnTransformer(transformers=transformers)\n",
    "    return preprocessor\n",
    "\n",
    "# Main preprocessing code\n",
    "y = df[y_column]\n",
    "X = df.drop(columns=to_drop)\n",
    "\n",
    "# Split first to avoid data leakage\n",
    "xTrain, xTest, yTrain, yTest = train_test_split(X, y, test_size=0.3, random_state=42)\n",
    "\n",
    "# Identify column types in training data\n",
    "numeric_cols, categorical_cols = identify_column_types(xTrain)\n",
    "print(f\"Numeric columns: {len(numeric_cols)}\")\n",
    "print(f\"Categorical columns: {len(categorical_cols)}\")\n",
    "\n",
    "# Create and fit the preprocessing pipeline\n",
    "preprocessor = create_preprocessing_pipeline(numeric_cols, categorical_cols)\n",
    "xTrain_transformed = preprocessor.fit_transform(xTrain)\n",
    "\n",
    "# Get feature names after transformation\n",
    "output_feature_names = []\n",
    "if numeric_cols:\n",
    "    output_feature_names.extend(numeric_cols)\n",
    "if categorical_cols:\n",
    "    categorical_features = preprocessor.named_transformers_['cat']['onehot'].get_feature_names_out(categorical_cols)\n",
    "    output_feature_names.extend(categorical_features)\n",
    "\n",
    "# Convert to DataFrame with proper column names\n",
    "xTrain = pd.DataFrame(xTrain_transformed, columns=output_feature_names, index=xTrain.index)\n",
    "\n",
    "# Transform test data\n",
    "xTest_transformed = preprocessor.transform(xTest)\n",
    "xTest = pd.DataFrame(xTest_transformed, columns=output_feature_names, index=xTest.index)\n",
    "\n",
    "# Handle target variable (check if y is numeric)\n",
    "if pd.api.types.is_numeric_dtype(y):\n",
    "    yTrainScaler = preprocessing.StandardScaler()\n",
    "    yTrain_values = yTrain.values.reshape(-1, 1)\n",
    "    yTrain = yTrainScaler.fit_transform(yTrain_values)\n",
    "    yTrain = pd.Series(yTrain.flatten(), index=xTrain.index)\n",
    "\n",
    "    yTest_values = yTest.values.reshape(-1, 1)\n",
    "    yTest = yTrainScaler.transform(yTest_values)\n",
    "    yTest = pd.Series(yTest.flatten(), index=xTest.index)\n",
    "else:\n",
    "    # If target is categorical, leave it as is\n",
    "    pass\n",
    "\n",
    "yTrain = pd.Series(yTrain.overall_survival_months)\n",
    "yTest = pd.Series(yTest.overall_survival_months)"
   ]
  },
  {
   "cell_type": "markdown",
   "id": "2f12b85a-29a0-4fc2-9ea7-ece06606627f",
   "metadata": {},
   "source": [
    "# Random Forest"
   ]
  },
  {
   "cell_type": "code",
   "execution_count": 8,
   "id": "d2c8d06b-f61d-4488-9412-fcb133bd1188",
   "metadata": {
    "tags": []
   },
   "outputs": [],
   "source": [
    "np.random.seed(42)\n",
    "\n",
    "# Fit a random forest regressor\n",
    "rf = RandomForestRegressor(n_estimators=100, max_depth=2)\n",
    "rf.fit(xTrain, yTrain)\n",
    "                           \n",
    "# Predict on test data\n",
    "y_pred = rf.predict(xTest)"
   ]
  },
  {
   "cell_type": "code",
   "execution_count": 9,
   "id": "431cc1e9-0566-4779-85b9-822fe2ac3b5b",
   "metadata": {
    "tags": []
   },
   "outputs": [
    {
     "name": "stdout",
     "output_type": "stream",
     "text": [
      "Out-of-sample R^2 score: 0.1041\n"
     ]
    }
   ],
   "source": [
    "# Calculate out-of-sample R2 score\n",
    "r2 = r2_score(yTest, y_pred)\n",
    "print(f\"Out-of-sample R^2 score: {r2:.4f}\")"
   ]
  },
  {
   "cell_type": "markdown",
   "id": "bbe14cd9-2013-4ee7-9f84-a619afaecf06",
   "metadata": {},
   "source": [
    "# How many nodes (i.e. decision rules) in the ensemble?"
   ]
  },
  {
   "cell_type": "code",
   "execution_count": 10,
   "id": "c837ed6d-6174-43bd-b0fd-8d02127fdb51",
   "metadata": {
    "tags": []
   },
   "outputs": [
    {
     "name": "stdout",
     "output_type": "stream",
     "text": [
      "Total number of leaf nodes in the ensemble: 400\n"
     ]
    }
   ],
   "source": [
    "total_leaf_nodes = 0\n",
    "\n",
    "for estimator in rf.estimators_:\n",
    "# `children_left` and `children_right` indicate child nodes; leaves h\n",
    "    total_leaf_nodes += sum((estimator.tree_.children_left == -1) & (estimator.tree_.children_right == -1))\n",
    "    \n",
    "print(\"Total number of leaf nodes in the ensemble:\", total_leaf_nodes)"
   ]
  },
  {
   "cell_type": "code",
   "execution_count": 11,
   "id": "97b2d724-b27f-45a7-b366-54107ee1aa4d",
   "metadata": {
    "tags": []
   },
   "outputs": [],
   "source": [
    "rule_matrix_train, _ = fire.get_rule_matrix_sparse(xTrain,rf.estimators_)\n",
    "rule_matrix_test, _ = fire.get_rule_matrix_sparse(xTest,rf.estimators_) "
   ]
  },
  {
   "cell_type": "markdown",
   "id": "f6215ae5-18ed-4f7d-b03b-89fa099b10da",
   "metadata": {
    "tags": []
   },
   "source": [
    "# What is the shape of the M matrix?"
   ]
  },
  {
   "cell_type": "code",
   "execution_count": 12,
   "id": "c53f1395-07a2-4a0a-899e-43dccac1d754",
   "metadata": {
    "tags": []
   },
   "outputs": [
    {
     "name": "stdout",
     "output_type": "stream",
     "text": [
      "Number of rows in training rule matrix: 1332\n",
      "Number of rows in testing rule matrix: 572\n"
     ]
    }
   ],
   "source": [
    "# Count the number of columns in each matrix\n",
    "num_columns_train = rule_matrix_train.shape[0]\n",
    "num_columns_test = rule_matrix_test.shape[0]\n",
    "\n",
    "print(\"Number of rows in training rule matrix:\", num_columns_train)\n",
    "print(\"Number of rows in testing rule matrix:\", num_columns_test)"
   ]
  },
  {
   "cell_type": "code",
   "execution_count": 13,
   "id": "724f7f3f-cc7a-44fb-b8c4-031c8442a487",
   "metadata": {
    "tags": []
   },
   "outputs": [
    {
     "name": "stdout",
     "output_type": "stream",
     "text": [
      "Number of columns in training rule matrix: 400\n",
      "Number of columns in testing rule matrix: 400\n"
     ]
    }
   ],
   "source": [
    "# Count the number of columns in each matrix\n",
    "num_columns_train = rule_matrix_train.shape[1]\n",
    "num_columns_test = rule_matrix_test.shape[1]\n",
    "\n",
    "print(\"Number of columns in training rule matrix:\", num_columns_train)\n",
    "print(\"Number of columns in testing rule matrix:\", num_columns_test)"
   ]
  },
  {
   "cell_type": "markdown",
   "id": "8f27bb15-3fc3-4c51-b29b-5db1eebd14a9",
   "metadata": {},
   "source": [
    "# FIRE"
   ]
  },
  {
   "cell_type": "code",
   "execution_count": 14,
   "id": "a37cdc90-8c9d-4ad8-ae2e-ed9d44c8d7e8",
   "metadata": {
    "tags": []
   },
   "outputs": [
    {
     "name": "stdout",
     "output_type": "stream",
     "text": [
      "R-squared Extracted Rules 0.020845034601380652\n"
     ]
    }
   ],
   "source": [
    "gamma = 1.5\n",
    "lambda1 = .7\n",
    "\n",
    "weights, _ = fire.MCP_CD(yTrain.values, rule_matrix_train.toarray(), lambda1, gamma)\n",
    "fire_pred = rule_matrix_test.toarray()@weights\n",
    "\n",
    "print(f'R-squared Extracted Rules {fire.r_squared(yTest,fire_pred,yTrain)}')"
   ]
  },
  {
   "cell_type": "code",
   "execution_count": 15,
   "id": "959b9a0f-f150-4a30-b0e1-103178b5f9bc",
   "metadata": {
    "tags": []
   },
   "outputs": [
    {
     "name": "stdout",
     "output_type": "stream",
     "text": [
      "Number of selected decision rules: 6\n"
     ]
    }
   ],
   "source": [
    "num_selected_rules = (weights != 0).sum()\n",
    "print(\"Number of selected decision rules:\", num_selected_rules)"
   ]
  },
  {
   "cell_type": "markdown",
   "id": "b3d14f14-aba0-4e38-b81e-e3ede1ec37e9",
   "metadata": {},
   "source": [
    "# Hypeparameters"
   ]
  },
  {
   "cell_type": "code",
   "execution_count": 16,
   "id": "63e1578c-bdfb-483d-8c5e-380923b3d0a1",
   "metadata": {
    "tags": []
   },
   "outputs": [
    {
     "data": {
      "text/plain": [
       "array([1.00000000e-02, 1.77827941e-02, 3.16227766e-02, 5.62341325e-02,\n",
       "       1.00000000e-01, 1.77827941e-01, 3.16227766e-01, 5.62341325e-01,\n",
       "       1.00000000e+00, 1.77827941e+00, 3.16227766e+00, 5.62341325e+00,\n",
       "       1.00000000e+01, 1.77827941e+01, 3.16227766e+01])"
      ]
     },
     "execution_count": 16,
     "metadata": {},
     "output_type": "execute_result"
    }
   ],
   "source": [
    "np.logspace(-2, 1.5, 15)"
   ]
  },
  {
   "cell_type": "code",
   "execution_count": 17,
   "id": "b76774c1-2aff-402a-ab73-c481e9e6ee09",
   "metadata": {
    "tags": []
   },
   "outputs": [
    {
     "name": "stdout",
     "output_type": "stream",
     "text": [
      "Testing gamma=1.1, lambda1=0.1\n"
     ]
    },
    {
     "ename": "NameError",
     "evalue": "name 'threshold' is not defined",
     "output_type": "error",
     "traceback": [
      "\u001b[0;31m---------------------------------------------------------------------------\u001b[0m",
      "\u001b[0;31mNameError\u001b[0m                                 Traceback (most recent call last)",
      "Cell \u001b[0;32mIn[17], line 21\u001b[0m\n\u001b[1;32m     17\u001b[0m \u001b[38;5;28;01mfor\u001b[39;00m lambda1 \u001b[38;5;129;01min\u001b[39;00m lambdas:\n\u001b[1;32m     18\u001b[0m     \u001b[38;5;28mprint\u001b[39m(\u001b[38;5;124mf\u001b[39m\u001b[38;5;124m\"\u001b[39m\u001b[38;5;124mTesting gamma=\u001b[39m\u001b[38;5;132;01m{\u001b[39;00mgamma\u001b[38;5;132;01m}\u001b[39;00m\u001b[38;5;124m, lambda1=\u001b[39m\u001b[38;5;132;01m{\u001b[39;00mlambda1\u001b[38;5;132;01m}\u001b[39;00m\u001b[38;5;124m\"\u001b[39m)\n\u001b[1;32m     20\u001b[0m     weights, _ \u001b[38;5;241m=\u001b[39m fire\u001b[38;5;241m.\u001b[39mMCP_CD(yTrain\u001b[38;5;241m.\u001b[39mvalues, rule_matrix_train\u001b[38;5;241m.\u001b[39mtoarray(), \n\u001b[0;32m---> 21\u001b[0m                            lambda1, gamma, threshold\u001b[38;5;241m=\u001b[39m\u001b[43mthreshold\u001b[49m)\n\u001b[1;32m     23\u001b[0m     fire_pred \u001b[38;5;241m=\u001b[39m rule_matrix_test\u001b[38;5;241m.\u001b[39mtoarray() \u001b[38;5;241m@\u001b[39m weights\n\u001b[1;32m     24\u001b[0m     r2_score \u001b[38;5;241m=\u001b[39m fire\u001b[38;5;241m.\u001b[39mr_squared(yTest, fire_pred, yTrain)\n",
      "\u001b[0;31mNameError\u001b[0m: name 'threshold' is not defined"
     ]
    }
   ],
   "source": [
    "# Define hyperparameter ranges to test\n",
    "# Using more values of gamma to better see its effect\n",
    "gammas = [1.1, 1.3, 2.0, 5.0]  # From near-L0 to more like L1\n",
    "\n",
    "# Using a higher range of lambda values to increase sparsity\n",
    "lambdas = np.logspace(-1, 1.5, 10)  # Higher values will select fewer rules\n",
    "\n",
    "# Storage for results\n",
    "results = []\n",
    "\n",
    "# Get rule matrices once (to avoid recomputing)\n",
    "rule_matrix_train, _ = fire.get_rule_matrix_sparse(xTrain, rf.estimators_)\n",
    "rule_matrix_test, _ = fire.get_rule_matrix_sparse(xTest, rf.estimators_)\n",
    "\n",
    "# Run grid search\n",
    "for gamma in gammas:\n",
    "    for lambda1 in lambdas:\n",
    "        print(f\"Testing gamma={gamma}, lambda1={lambda1}\")\n",
    "        \n",
    "        weights, _ = fire.MCP_CD(yTrain.values, rule_matrix_train.toarray(), \n",
    "                               lambda1, gamma, threshold=threshold)\n",
    "        \n",
    "        fire_pred = rule_matrix_test.toarray() @ weights\n",
    "        r2_score = fire.r_squared(yTest, fire_pred, yTrain)\n",
    "        num_rules = (weights != 0).sum()\n",
    "        \n",
    "        results.append({\n",
    "            'gamma': gamma,\n",
    "            'lambda1': lambda1,\n",
    "            'r2_score': r2_score,\n",
    "            'num_rules': num_rules\n",
    "        })\n",
    "\n",
    "# Convert results to DataFrame for easier analysis\n",
    "results_df = pd.DataFrame(results)\n",
    "\n",
    "# Create visualizations\n",
    "plt.figure(figsize=(16, 12))\n",
    "\n",
    "# Plot 1: Number of rules vs lambda for different gammas\n",
    "plt.subplot(2, 2, 1)\n",
    "for gamma in gammas:\n",
    "    subset = results_df[results_df['gamma'] == gamma]\n",
    "    plt.plot(subset['lambda1'], subset['num_rules'], 'o-', label=f'gamma={gamma}')\n",
    "plt.xscale('log')\n",
    "plt.xlabel('Lambda (sparsity parameter)')\n",
    "plt.ylabel('Number of Selected Rules')\n",
    "plt.title('Effect of Lambda on Rule Sparsity')\n",
    "plt.legend()\n",
    "plt.grid(True)\n",
    "\n",
    "# Plot 2: R2 score vs number of rules for different gammas\n",
    "plt.subplot(2, 2, 2)\n",
    "for gamma in gammas:\n",
    "    subset = results_df[results_df['gamma'] == gamma]\n",
    "    subset_sorted = subset.sort_values('num_rules')\n",
    "    plt.plot(subset_sorted['num_rules'], subset_sorted['r2_score'], 'o-', label=f'gamma={gamma}')\n",
    "plt.xlabel('Number of Selected Rules')\n",
    "plt.ylabel('R-squared Score')\n",
    "plt.title('Performance vs Model Size')\n",
    "plt.legend()\n",
    "plt.grid(True)\n",
    "\n",
    "# Plot 3: R2 score vs lambda for different gammas\n",
    "plt.subplot(2, 2, 3)\n",
    "for gamma in gammas:\n",
    "    subset = results_df[results_df['gamma'] == gamma]\n",
    "    plt.plot(subset['lambda1'], subset['r2_score'], 'o-', label=f'gamma={gamma}')\n",
    "plt.xscale('log')\n",
    "plt.xlabel('Lambda (sparsity parameter)')\n",
    "plt.ylabel('R-squared Score')\n",
    "plt.title('Effect of Lambda on Performance')\n",
    "plt.legend()\n",
    "plt.grid(True)\n",
    "\n",
    "# Plot 4: Heatmap of number of rules for different lambda-gamma combinations\n",
    "plt.subplot(2, 2, 4)\n",
    "pivot = results_df.pivot_table(index='gamma', columns='lambda1', values='num_rules')\n",
    "plt.imshow(pivot, aspect='auto', cmap='viridis', interpolation='nearest')\n",
    "plt.colorbar(label='Number of Rules')\n",
    "plt.title('Number of Rules by Lambda-Gamma Combination')\n",
    "plt.ylabel('Gamma')\n",
    "plt.xlabel('Lambda Index (increasing →)')\n",
    "gamma_labels = [f\"{g:.1f}\" for g in gammas]\n",
    "plt.yticks(range(len(gammas)), gamma_labels)\n",
    "\n",
    "plt.tight_layout()\n",
    "plt.savefig('fire_hyperparameter_analysis_sparse.png')\n",
    "plt.show()"
   ]
  },
  {
   "cell_type": "code",
   "execution_count": null,
   "id": "772bff10-7dc9-434e-885b-0e3b15f0d7d5",
   "metadata": {
    "tags": []
   },
   "outputs": [],
   "source": [
    "# Find the most efficient configurations (best R2 per rule)\n",
    "results_df['efficiency'] = results_df['r2_score'] / results_df['num_rules']\n",
    "efficient_configs = results_df[results_df['num_rules'] > 5].sort_values('efficiency', ascending=False)\n",
    "print(\"\\nMost efficient configurations (best R2 per rule):\")\n",
    "print(efficient_configs.head(10))"
   ]
  },
  {
   "cell_type": "markdown",
   "id": "6befb68b-d884-46a8-a089-4e07e8d7ea02",
   "metadata": {},
   "source": [
    "# Interpreting"
   ]
  },
  {
   "cell_type": "code",
   "execution_count": null,
   "id": "a37e5a00-2360-4d51-93f3-4587d0fb19b9",
   "metadata": {
    "tags": []
   },
   "outputs": [],
   "source": [
    "def tree_to_code(tree, feature_names):\n",
    "    \"\"\"\n",
    "    Convert a decision tree into a sequence of if-then statements\n",
    "    \"\"\"\n",
    "    tree_ = tree.tree_\n",
    "    # Create a safe mapping for feature names\n",
    "    feature_name = []\n",
    "    for i in tree_.feature:\n",
    "        if i != _tree.TREE_UNDEFINED:\n",
    "            # Check if the index is within bounds\n",
    "            if i < len(feature_names):\n",
    "                feature_name.append(feature_names[i])\n",
    "            else:\n",
    "                feature_name.append(f\"feature_{i}\")\n",
    "        else:\n",
    "            feature_name.append(\"undefined!\")\n",
    "            \n",
    "    paths = []\n",
    "    def recurse(node, depth, path):\n",
    "        indent = \" \" * depth\n",
    "        if tree_.feature[node] != _tree.TREE_UNDEFINED:\n",
    "            name = feature_name[node]\n",
    "            threshold = tree_.threshold[node]\n",
    "            left_path = path.copy()\n",
    "            left_path.append(f\"{indent}if {name} <= {threshold:.2f}:\")\n",
    "            recurse(tree_.children_left[node], depth + 1, left_path)\n",
    "            right_path = path.copy()\n",
    "            right_path.append(f\"{indent}if {name} > {threshold:.2f}:\")\n",
    "            recurse(tree_.children_right[node], depth + 1, right_path)\n",
    "        else:\n",
    "            path.append(f\"{indent}return {np.round(tree_.value[node][0][0])}\")\n",
    "            paths.append(\" \".join(path))\n",
    "    recurse(0, 1, [])\n",
    "    return paths\n",
    "\n",
    "def rf_to_rules(tree_list, feature_names):\n",
    "    paths_all = []\n",
    "    for tree1 in tree_list:\n",
    "        paths = tree_to_code(tree1, feature_names)\n",
    "        for p in paths:\n",
    "            paths_all.append(p)\n",
    "    return paths_all\n",
    "\n",
    "def get_rules(estimator, feature_names, weights):  # Added weights parameter\n",
    "    all_rules = rf_to_rules(estimator, feature_names)\n",
    "    sorted_selected_rules = sorted(\n",
    "        [rule for rule, weight in zip(all_rules, weights) if weight != 0],\n",
    "        key=lambda rule: float(rule.split(\"return\")[-1].strip())  # Extract the return value\n",
    "    )\n",
    "    # Print the sorted final rule ensemble\n",
    "    print(\"Final Rule Ensemble Extracted by FIRE (sorted by increasing return value)\")\n",
    "    for rule in sorted_selected_rules:\n",
    "        print(rule)\n",
    "    return sorted_selected_rules\n",
    "\n",
    "def parse_rule_line(line):\n",
    "    conditions = re.findall(r'if (.*?):', line)\n",
    "    ret_match = re.search(r'return ([\\-\\d\\.]+)', line)\n",
    "    if not ret_match:\n",
    "        raise ValueError(f\"No return found in line: {line}\")\n",
    "    return_value = float(ret_match.group(1))\n",
    "    return conditions, return_value\n",
    "\n",
    "def insert_path(tree, conditions, return_value):\n",
    "    if not conditions:\n",
    "        tree[\"value\"] = return_value\n",
    "        return\n",
    "    first_condition = conditions[0]\n",
    "    if first_condition not in tree:\n",
    "        tree[first_condition] = {}\n",
    "    if True not in tree[first_condition]:\n",
    "        tree[first_condition][True] = {}\n",
    "    insert_path(tree[first_condition][True], conditions[1:], return_value)\n",
    "\n",
    "def add_nodes(dot, tree, parent_id=None, edge_label=\"\"):\n",
    "    if \"value\" in tree:\n",
    "        leaf_id = str(id(tree))\n",
    "        dot.node(leaf_id, label=f\"Return {tree['value']}\", shape=\"box\", style=\"filled\", color=\"lightblue\")\n",
    "        if parent_id:\n",
    "            dot.edge(parent_id, leaf_id, label=edge_label)\n",
    "        return\n",
    "    for condition, branch_dict in tree.items():\n",
    "        node_id = str(id(condition))\n",
    "        dot.node(node_id, label=condition, shape=\"ellipse\", style=\"filled\", color=\"lightgray\")\n",
    "        if parent_id:\n",
    "            dot.edge(parent_id, node_id, label=edge_label)\n",
    "        if True in branch_dict:\n",
    "            add_nodes(dot, branch_dict[True], parent_id=node_id, edge_label=\"True\")\n",
    "\n",
    "def visualize_tree(tree, filename=\"decision_tree\"):\n",
    "    dot = graphviz.Digraph()\n",
    "    add_nodes(dot, tree)\n",
    "    dot.render(filename, view=True)\n",
    "\n",
    "\n",
    "decision_tree = {}\n",
    "for line in rules:\n",
    "    conds, val = parse_rule_line(line)\n",
    "    insert_path(decision_tree, conds, val)\n",
    "\n",
    "visualize_tree(decision_tree, filename=\"my_decision_tree\")"
   ]
  },
  {
   "cell_type": "code",
   "execution_count": null,
   "id": "1934ef9b-1a2d-4ea0-af34-7c5ab00ab99e",
   "metadata": {
    "tags": []
   },
   "outputs": [],
   "source": [
    "gamma, lambda1 = efficient_configs.iloc[0].gamma, efficient_configs.iloc[0].lambda1\n",
    "\n",
    "weights, _ = fire.MCP_CD(yTrain.values, rule_matrix_train.toarray(), lambda1, gamma)\n",
    "fire_pred = rule_matrix_test.toarray()@weights\n",
    "\n",
    "rules = get_rules(rf.estimators_, X.columns, weights)"
   ]
  }
 ],
 "metadata": {
  "kernelspec": {
   "display_name": "Python 3 (ipykernel)",
   "language": "python",
   "name": "python3"
  },
  "language_info": {
   "codemirror_mode": {
    "name": "ipython",
    "version": 3
   },
   "file_extension": ".py",
   "mimetype": "text/x-python",
   "name": "python",
   "nbconvert_exporter": "python",
   "pygments_lexer": "ipython3",
   "version": "3.11.0"
  }
 },
 "nbformat": 4,
 "nbformat_minor": 5
}
